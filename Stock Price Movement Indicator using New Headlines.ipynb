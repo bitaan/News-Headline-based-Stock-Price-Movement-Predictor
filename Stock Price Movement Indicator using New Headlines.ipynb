{
 "cells": [
  {
   "cell_type": "markdown",
   "id": "9928985f",
   "metadata": {},
   "source": [
    "# Stock Price Movement Predictor based on News Headlines"
   ]
  },
  {
   "cell_type": "markdown",
   "id": "3c640321",
   "metadata": {},
   "source": [
    "### Import all the required libs"
   ]
  },
  {
   "cell_type": "code",
   "execution_count": 3,
   "id": "2fa652b3",
   "metadata": {},
   "outputs": [],
   "source": [
    "import pandas as pd\n",
    "from sklearn.feature_extraction.text import CountVectorizer, TfidfVectorizer\n",
    "from sklearn.ensemble import RandomForestClassifier\n",
    "from sklearn.linear_model import LogisticRegression"
   ]
  },
  {
   "cell_type": "markdown",
   "id": "9afcad1a",
   "metadata": {},
   "source": [
    "### Import the data"
   ]
  },
  {
   "cell_type": "code",
   "execution_count": 31,
   "id": "90ca2884",
   "metadata": {},
   "outputs": [],
   "source": [
    "dataset = pd.read_csv('Data.csv')"
   ]
  },
  {
   "cell_type": "code",
   "execution_count": 32,
   "id": "b0cf8bef",
   "metadata": {},
   "outputs": [],
   "source": [
    "# filling the null values with median \n",
    "\n",
    "dataset['Top23'].fillna(dataset['Top23'].median,inplace=True)\n",
    "dataset['Top24'].fillna(dataset['Top24'].median,inplace=True)\n",
    "dataset['Top25'].fillna(dataset['Top25'].median,inplace=True)"
   ]
  },
  {
   "cell_type": "code",
   "execution_count": 33,
   "id": "7c1adb07",
   "metadata": {},
   "outputs": [],
   "source": [
    "train = dataset[dataset['Date'] < '2015-01-01']\n",
    "test = dataset[dataset['Date'] > '2014-12-31']"
   ]
  },
  {
   "cell_type": "markdown",
   "id": "a2aaaf44",
   "metadata": {},
   "source": [
    "### Pre-processing steps"
   ]
  },
  {
   "cell_type": "code",
   "execution_count": 34,
   "id": "15fe4b1e",
   "metadata": {},
   "outputs": [],
   "source": [
    "data = train.iloc[:, 2:]\n",
    "data.replace(\"[^a-zA-Z]\",\" \",regex=True, inplace=True)"
   ]
  },
  {
   "cell_type": "code",
   "execution_count": 35,
   "id": "d9769deb",
   "metadata": {},
   "outputs": [],
   "source": [
    "#Make the data column headers easier to read\n",
    "data.columns = [str(i) for i in range(25)]"
   ]
  },
  {
   "cell_type": "code",
   "execution_count": 36,
   "id": "b126ae5e",
   "metadata": {},
   "outputs": [],
   "source": [
    "for i in data.columns:\n",
    "    \n",
    "    data[i] = data[i].str.lower()"
   ]
  },
  {
   "cell_type": "code",
   "execution_count": 39,
   "id": "0f22d925",
   "metadata": {},
   "outputs": [],
   "source": [
    "headlines = []\n",
    "for row in range(0,len(data.index)):\n",
    "    headlines.append(' '.join(str(x) for x in data.iloc[row,0:]))"
   ]
  },
  {
   "cell_type": "code",
   "execution_count": 40,
   "id": "bef51e0e",
   "metadata": {},
   "outputs": [],
   "source": [
    "## implement BAG OF WORDS\n",
    "CV = CountVectorizer(ngram_range=(2,2), max_features=100009)\n",
    "traindataset = CV.fit_transform(headlines)"
   ]
  },
  {
   "cell_type": "code",
   "execution_count": 41,
   "id": "70a6a441",
   "metadata": {},
   "outputs": [],
   "source": [
    "## implement TF - IDF\n",
    "TDF = TfidfVectorizer(ngram_range=(2,2), max_features=100009)\n",
    "traindataset2 = TDF.fit_transform(headlines)"
   ]
  },
  {
   "cell_type": "code",
   "execution_count": 42,
   "id": "70180710",
   "metadata": {},
   "outputs": [
    {
     "data": {
      "text/plain": [
       "RandomForestClassifier(criterion='entropy', n_estimators=200)"
      ]
     },
     "execution_count": 42,
     "metadata": {},
     "output_type": "execute_result"
    }
   ],
   "source": [
    "# Random Forest Implementation\n",
    "RFC = RandomForestClassifier(n_estimators = 200, criterion = 'entropy')\n",
    "RFC.fit(traindataset, train['Label'])"
   ]
  },
  {
   "cell_type": "code",
   "execution_count": 43,
   "id": "dfdfe1ae",
   "metadata": {},
   "outputs": [
    {
     "data": {
      "text/plain": [
       "LogisticRegression()"
      ]
     },
     "execution_count": 43,
     "metadata": {},
     "output_type": "execute_result"
    }
   ],
   "source": [
    "# Logistic Regression Implementation\n",
    "LR = LogisticRegression()\n",
    "LR.fit(traindataset2, train['Label'])"
   ]
  },
  {
   "cell_type": "code",
   "execution_count": 44,
   "id": "f6cbd9dc",
   "metadata": {},
   "outputs": [],
   "source": [
    "test_headlines = []\n",
    "for i in range(0, len(test.index)):\n",
    "    \n",
    "    test_headlines.append(' '.join(str(x) for x in test.iloc[i, 2:27]))\n",
    "test_dataset = CV.transform(test_headlines)\n",
    "predictions = RFC.predict(test_dataset)"
   ]
  },
  {
   "cell_type": "code",
   "execution_count": 45,
   "id": "13595ad8",
   "metadata": {},
   "outputs": [],
   "source": [
    "test_headlines2 = []\n",
    "for i in range(0, len(test.index)):\n",
    "    \n",
    "    test_headlines2.append(' '.join(str(x) for x in test.iloc[i, 2:27]))\n",
    "    \n",
    "test_dataset2 = TDF.transform(test_headlines2)\n",
    "predictions2 = LR.predict(test_dataset2)"
   ]
  },
  {
   "cell_type": "markdown",
   "id": "049f5325",
   "metadata": {},
   "source": [
    "### Import Metrics lib"
   ]
  },
  {
   "cell_type": "code",
   "execution_count": 46,
   "id": "4f70c5db",
   "metadata": {},
   "outputs": [],
   "source": [
    "## Import library to check accuracy\n",
    "from sklearn.metrics import classification_report,confusion_matrix,accuracy_score"
   ]
  },
  {
   "cell_type": "code",
   "execution_count": 47,
   "id": "fc4055ee",
   "metadata": {},
   "outputs": [
    {
     "name": "stdout",
     "output_type": "stream",
     "text": [
      "[[ 25 161]\n",
      " [ 27 165]]\n",
      "0.5026455026455027\n",
      "              precision    recall  f1-score   support\n",
      "\n",
      "           0       0.48      0.13      0.21       186\n",
      "           1       0.51      0.86      0.64       192\n",
      "\n",
      "    accuracy                           0.50       378\n",
      "   macro avg       0.49      0.50      0.42       378\n",
      "weighted avg       0.49      0.50      0.43       378\n",
      "\n"
     ]
    }
   ],
   "source": [
    "matrix=confusion_matrix(test['Label'],predictions)\n",
    "print(matrix)\n",
    "score=accuracy_score(test['Label'],predictions)\n",
    "print(score)\n",
    "report=classification_report(test['Label'],predictions)\n",
    "print(report)"
   ]
  },
  {
   "cell_type": "code",
   "execution_count": 49,
   "id": "fbaa72f1",
   "metadata": {},
   "outputs": [
    {
     "name": "stdout",
     "output_type": "stream",
     "text": [
      "[[ 11 175]\n",
      " [  7 185]]\n",
      "0.5185185185185185\n",
      "              precision    recall  f1-score   support\n",
      "\n",
      "           0       0.61      0.06      0.11       186\n",
      "           1       0.51      0.96      0.67       192\n",
      "\n",
      "    accuracy                           0.52       378\n",
      "   macro avg       0.56      0.51      0.39       378\n",
      "weighted avg       0.56      0.52      0.39       378\n",
      "\n"
     ]
    }
   ],
   "source": [
    "matrix=confusion_matrix(test['Label'],predictions2)\n",
    "print(matrix)\n",
    "score=accuracy_score(test['Label'],predictions2)\n",
    "print(score)\n",
    "report=classification_report(test['Label'],predictions2)\n",
    "print(report)"
   ]
  },
  {
   "cell_type": "code",
   "execution_count": null,
   "id": "6fe6357f",
   "metadata": {},
   "outputs": [],
   "source": []
  }
 ],
 "metadata": {
  "kernelspec": {
   "display_name": "Python 3",
   "language": "python",
   "name": "python3"
  },
  "language_info": {
   "codemirror_mode": {
    "name": "ipython",
    "version": 3
   },
   "file_extension": ".py",
   "mimetype": "text/x-python",
   "name": "python",
   "nbconvert_exporter": "python",
   "pygments_lexer": "ipython3",
   "version": "3.8.8"
  }
 },
 "nbformat": 4,
 "nbformat_minor": 5
}
